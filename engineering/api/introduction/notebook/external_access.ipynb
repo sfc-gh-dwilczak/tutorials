{
 "cells": [
  {
   "cell_type": "code",
   "execution_count": null,
   "id": "66f3df52-6ea8-4c39-b8a5-2f430fc4541f",
   "metadata": {
    "language": "python",
    "name": "basic_setup"
   },
   "outputs": [],
   "source": [
    "# Import the needed packages.\n",
    "from snowflake.snowpark.context import get_active_session\n",
    "import requests\n",
    "\n",
    "session = get_active_session()"
   ]
  },
  {
   "cell_type": "code",
   "execution_count": null,
   "id": "b2001b4c-b82b-4a50-84ef-9ff5bc237512",
   "metadata": {
    "collapsed": false,
    "language": "python",
    "name": "api"
   },
   "outputs": [],
   "source": [
    "# Your OpenWeatherMap API key\n",
    "api_key = \"87c27cd8bd580219598b8112659391a7\""
   ]
  },
  {
   "cell_type": "code",
   "execution_count": null,
   "id": "a2544cb3-083e-4487-84d0-592ac2f6411c",
   "metadata": {
    "collapsed": false,
    "language": "python",
    "name": "city"
   },
   "outputs": [],
   "source": [
    "# Prompt the user to enter the city name\n",
    "city = \"London\""
   ]
  },
  {
   "cell_type": "code",
   "execution_count": null,
   "id": "374ba94d-8e70-4d66-859a-3d7c13e69db1",
   "metadata": {
    "collapsed": false,
    "language": "python",
    "name": "request_data"
   },
   "outputs": [],
   "source": [
    "# Construct the API URL\n",
    "url = f\"https://api.openweathermap.org/data/2.5/weather?q={city}&APPID={api_key}\"\n",
    "\n",
    "# Make the API request\n",
    "response = requests.get(url)\n",
    "\n",
    "data = [{\"data\": response.json()}]\n",
    "\n",
    "print(data)\n",
    "\n",
    "# If we want to save the data to a table\n",
    "session.create_dataframe(data).create_or_replace_temp_view(\"temp\")"
   ]
  },
  {
   "cell_type": "code",
   "execution_count": null,
   "id": "e80d2cc7-b753-4f6a-94d6-c46e3101eea4",
   "metadata": {
    "collapsed": false,
    "language": "sql",
    "name": "table"
   },
   "outputs": [],
   "source": [
    "-- Create a table from the resulting data.\n",
    "create or replace table london as select * from temp"
   ]
  },
  {
   "cell_type": "code",
   "execution_count": null,
   "id": "764f70ff-7188-4033-9e5c-39cca4f4d465",
   "metadata": {
    "collapsed": false,
    "language": "sql",
    "name": "show"
   },
   "outputs": [],
   "source": [
    "select * from london"
   ]
  }
 ],
 "metadata": {
  "kernelspec": {
   "display_name": "Streamlit Notebook",
   "name": "streamlit"
  }
 },
 "nbformat": 4,
 "nbformat_minor": 5
}
