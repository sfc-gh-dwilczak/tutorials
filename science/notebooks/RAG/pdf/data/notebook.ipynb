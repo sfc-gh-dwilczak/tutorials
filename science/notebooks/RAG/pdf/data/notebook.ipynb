{
 "metadata": {
  "kernelspec": {
   "display_name": "Streamlit Notebook",
   "name": "streamlit"
  }
 },
 "nbformat_minor": 5,
 "nbformat": 4,
 "cells": [
  {
   "cell_type": "code",
   "execution_count": null,
   "id": "49a74b50-d932-4a6d-812d-ae3ff8be744c",
   "metadata": {
    "codeCollapsed": false,
    "collapsed": false,
    "language": "python",
    "name": "Import_Packages"
   },
   "outputs": [],
   "source": [
    "from snowflake.snowpark.context import get_active_session\n",
    "\n",
    "session = get_active_session()"
   ]
  },
  {
   "cell_type": "code",
   "execution_count": null,
   "id": "a8beb13d-793b-40fc-aacf-1cec6525c4eb",
   "metadata": {
    "collapsed": false,
    "language": "python",
    "name": "Define_Function"
   },
   "outputs": [],
   "source": "from io import BytesIO\nfrom PyPDF2 import PdfFileReader\nfrom snowflake.snowpark.files import SnowflakeFile\n\ndef readpdf(file_path):\n    whole_text = \"\"\n    with SnowflakeFile.open(file_path, 'rb') as file:\n        f = BytesIO(file.readall())\n        pdf_reader = PdfFileReader(f)\n        whole_text = \"\"\n        for page in pdf_reader.pages:\n            whole_text += page.extract_text()\n    return whole_text"
  },
  {
   "cell_type": "code",
   "execution_count": null,
   "id": "bc5a1fd1-d731-4fec-85ee-9cb1c50cb74e",
   "metadata": {
    "codeCollapsed": false,
    "collapsed": true,
    "language": "python",
    "name": "Save_Function"
   },
   "outputs": [],
   "source": [
    "from snowflake.snowpark.types import StringType\n",
    "\n",
    "session.udf.register(\n",
    "    func = readpdf\n",
    "  , return_type = StringType()\n",
    "  , input_types = [StringType()]\n",
    "  , is_permanent = True\n",
    "  , name = 'SNOWPARK_PDF'\n",
    "  , replace = True\n",
    "  , packages=['snowflake-snowpark-python','pypdf2']\n",
    "  , stage_location = 'RAW.PDF.UDF')"
   ]
  },
  {
   "cell_type": "code",
   "execution_count": null,
   "id": "acc3e2e2-a93e-4ca1-b1d4-e405b05f690c",
   "metadata": {
    "codeCollapsed": false,
    "collapsed": false,
    "language": "sql",
    "name": "Extract_PDF_Text"
   },
   "outputs": [],
   "source": [
    "create or replace table raw_text as\n",
    "    select \n",
    "        relative_path\n",
    "        ,file_url\n",
    " ,snowpark_pdf(build_scoped_file_url(@folder,relative_path)) as raw_text\n",
    "    from\n",
    "        directory(@folder)\n",
    "    where \n",
    "        relative_path != 'Tesla_Owners_Guide.pdf';"
   ]
  },
  {
   "cell_type": "code",
   "execution_count": null,
   "id": "17a244f8-4c41-4910-b8b9-f81aa90e127a",
   "metadata": {
    "codeCollapsed": false,
    "collapsed": false,
    "language": "sql",
    "name": "View_Raw_Text"
   },
   "outputs": [],
   "source": [
    "select * from raw_text;"
   ]
  },
  {
   "cell_type": "code",
   "execution_count": null,
   "id": "a9fb1107-60b6-48d7-8bc6-63eda983dbb4",
   "metadata": {
    "codeCollapsed": false,
    "collapsed": false,
    "language": "sql",
    "name": "Summarize_Text_Error"
   },
   "outputs": [],
   "source": [
    "select snowflake.cortex.complete(\n",
    "    'llama2-70b-chat'\n",
    "    ,concat(\n",
    "        'summarise the following text'\n",
    "        ,raw_text)) as summarization \n",
    "from raw_text\n",
    "limit 1;"
   ]
  },
  {
   "cell_type": "code",
   "execution_count": null,
   "id": "7dc13750-713c-426c-b3d8-7a4feeb5846f",
   "metadata": {
    "codeCollapsed": false,
    "collapsed": false,
    "language": "python",
    "name": "Create_Class"
   },
   "outputs": [],
   "source": "import pandas as pd\nfrom langchain.text_splitter import RecursiveCharacterTextSplitter\nfrom snowflake.snowpark.types import StringType, StructField, StructType\n\nclass text_chunker:\n\n    def process(self,text):        \n        text_raw=[]\n        text_raw.append(text) \n        \n        text_splitter = RecursiveCharacterTextSplitter(\n            separators = [\"\\n\"],\n            chunk_size = 1000,\n            chunk_overlap  = 50,\n            length_function = len,\n            add_start_index = True)\n    \n        chunks = text_splitter.create_documents(text_raw)\n        df = pd.DataFrame(chunks, columns=['chunks','meta', 'raw'])\n        \n        yield from df.itertuples(index=False, name=None)"
  },
  {
   "cell_type": "code",
   "execution_count": null,
   "id": "1f23ef31-1eca-4ee3-a7e3-3f185db6f78d",
   "metadata": {
    "codeCollapsed": false,
    "collapsed": true,
    "language": "python",
    "name": "Save_Table_Function"
   },
   "outputs": [],
   "source": "session.udtf.register( \n    handler = text_chunker,\n    output_schema= StructType([\n        StructField(\"chunk\", StringType()),\n        StructField(\"meta\", StringType()),\n        StructField(\"raw\", StringType())]), \n    input_types = [StringType()] , \n    is_permanent = True , \n    name = 'CHUNK_TEXT' , \n    replace = True , \n    packages=['pandas','langchain'], \n    stage_location = 'RAW.PDF.UDF' )"
  },
  {
   "cell_type": "code",
   "execution_count": null,
   "id": "e776df17-3d82-4ae0-9847-53b15aa99e1c",
   "metadata": {
    "codeCollapsed": false,
    "collapsed": false,
    "language": "sql",
    "name": "Chunk_Raw_Text"
   },
   "outputs": [],
   "source": "create or replace table chunk_text as \n    select \n        replace(relative_path,'.pdf') as episode_name,\n        func.*\n    from \n        raw_text,\n        table(chunk_text(raw_text)) as func;"
  },
  {
   "cell_type": "code",
   "execution_count": null,
   "id": "3aaa69f1-19b7-45f9-bba7-65417c67ce0f",
   "metadata": {
    "codeCollapsed": false,
    "collapsed": false,
    "language": "sql",
    "name": "View_Chunk_Text"
   },
   "outputs": [],
   "source": [
    "select *\n",
    "from chunk_text;"
   ]
  },
  {
   "cell_type": "code",
   "execution_count": null,
   "id": "f5ec234b-60a6-49db-8ad2-0fc486ced712",
   "metadata": {
    "codeCollapsed": false,
    "collapsed": false,
    "language": "sql",
    "name": "Vector_Chunk_Text"
   },
   "outputs": [],
   "source": "create or replace table vector_text as\nselect episode_name\n    ,chunk\n    ,snowflake.cortex.embed_text_768('e5-base-v2',chunk) as chunk_embedding\nfrom chunk_text;"
  },
  {
   "cell_type": "code",
   "execution_count": null,
   "id": "7eb2b7c8-e0fe-4970-ad2e-0b79dae36773",
   "metadata": {
    "codeCollapsed": false,
    "collapsed": false,
    "language": "sql",
    "name": "View_Vector_Text"
   },
   "outputs": [],
   "source": [
    "select * from vector_text limit 10;"
   ]
  },
  {
   "cell_type": "code",
   "execution_count": null,
   "id": "92f54134-780d-4f5d-9f1c-1f0a4bc92734",
   "metadata": {
    "codeCollapsed": false,
    "collapsed": false,
    "language": "sql",
    "name": "Vector_Distance"
   },
   "outputs": [],
   "source": [
    "select episode_name\n",
    "    ,chunk\n",
    "    ,vector_l2_distance(\n",
    "        snowflake.cortex.embed_text(\n",
    "        'e5-base-v2',\n",
    "        'How is the performance of different AI platforms in translating from English to Hindi?')\n",
    "        ,chunk_embedding) vector_distance\n",
    "from vector_text\n",
    "order by vector_distance asc\n",
    "limit 1;"
   ]
  },
  {
   "cell_type": "code",
   "execution_count": null,
   "id": "4ca93c38-296f-44d3-bc03-c869f13db6f3",
   "metadata": {
    "codeCollapsed": false,
    "collapsed": false,
    "language": "sql",
    "name": "Complete"
   },
   "outputs": [],
   "source": [
    "with p as(\n",
    "    select \n",
    "    'How is the performance of different AI platforms in translating from English to Hindi?' as prompt\n",
    "        ,snowflake.cortex.embed_text('e5-base-v2', prompt) prompt_embedding\n",
    ")\n",
    "\n",
    ",v as(\n",
    "    select prompt\n",
    "        ,chunk\n",
    "        ,episode_name\n",
    "        ,vector_l2_distance(prompt_embedding,chunk_embedding) vector_distance\n",
    "    from vector_text, p\n",
    "    order by vector_distance asc\n",
    "    limit 1\n",
    ")\n",
    "\n",
    "select episode_name\n",
    "    ,chunk\n",
    "    ,snowflake.cortex.complete('llama2-70b-chat',concat( \n",
    "        'Answer the question based on the context. Be concise.'\n",
    "        ,'Context: ', chunk\n",
    "        ,'Question: ', prompt\n",
    "        ,'Answer: ')) \n",
    "as response\n",
    "from v;"
   ]
  },
  {
   "cell_type": "code",
   "execution_count": null,
   "id": "0ecdf428-4e34-4f1e-a631-729f46325d61",
   "metadata": {
    "codeCollapsed": false,
    "collapsed": false,
    "language": "python",
    "name": "Streamlit"
   },
   "outputs": [],
   "source": [
    "import streamlit as st\n",
    "\n",
    "st.title(\"Ask Your Data Anything :snowflake:\")\n",
    "\n",
    "st.subheader(\"Sample Questions\")\n",
    "st.caption(\"\"\"\n",
    "    - How is the performance of different AI platforms in translating from English to Hindi?\n",
    "    - For DASH 2023 User Guide: “ Summarize the dashboard functionalities”\n",
    "    - How do I open the front trunk on a Tesla Model X?\n",
    "\"\"\")\n",
    "\n",
    "prompt = st.text_input(\"Enter prompt\", placeholder=\"Type your question here\", label_visibility=\"collapsed\")\n",
    "\n",
    "quest_q = f'''\n",
    "    with p as(\n",
    "        select $${prompt}$$ as prompt\n",
    "            ,snowflake.cortex.embed_text('e5-base-v2', prompt) prompt_embedding\n",
    "    )\n",
    "    ,v as(\n",
    "        select prompt\n",
    "            ,chunk\n",
    "            ,episode_name\n",
    "            ,vector_l2_distance(prompt_embedding,chunk_embedding) vector_distance\n",
    "        from vector_text, p\n",
    "        -- where episode_name = 'DASH 2023 Web Dashboard User Guide.pdf'\n",
    "        order by vector_distance asc\n",
    "        limit 1\n",
    "    )\n",
    "    select episode_name\n",
    "        ,snowflake.cortex.complete('llama2-70b-chat',concat( \n",
    "            'Answer the question based on the context. Be concise.'\n",
    "            ,'Context: ', chunk\n",
    "            ,'Question: ', prompt\n",
    "            ,'Answer: ')) \n",
    "    as response\n",
    "    from v;\n",
    "'''\n",
    "\n",
    "if prompt:\n",
    "    df_query = session.sql(quest_q).to_pandas()\n",
    "    st.subheader('Information from the [' + df_query['EPISODE_NAME'][0] +'](https://app.snowflake.com/sfsenorthamerica/demo_dwilczak/#/data/databases/RAW/schemas/PDF/stage/FOLDER)')\n",
    "    st.write(df_query['RESPONSE'][0])"
   ]
  },
  {
   "cell_type": "code",
   "execution_count": null,
   "id": "b35e71f9-2c6e-4b71-9746-4e258cf7e859",
   "metadata": {
    "codeCollapsed": false,
    "collapsed": false,
    "language": "sql",
    "name": "Insert_Tesla_Guide"
   },
   "outputs": [],
   "source": [
    "insert into vector_text\n",
    "with raw as(\n",
    "    select relative_path\n",
    "        ,file_url\n",
    "        ,snowpark_pdf(build_scoped_file_url(@folder,relative_path)) as raw_text\n",
    "    from directory(@folder)\n",
    "    where relative_path = 'Tesla_Owners_Guide.pdf'\n",
    ")\n",
    "select relative_path\n",
    "    ,func.chunk\n",
    "    ,snowflake.cortex.embed_text('e5-base-v2',chunk) as chunk_embedding\n",
    "from raw\n",
    "    ,table(chunk_text(raw_text)) as func;"
   ]
  }
 ]
}