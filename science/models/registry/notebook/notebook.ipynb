{
 "metadata": {
  "kernelspec": {
   "display_name": "Streamlit Notebook",
   "name": "streamlit"
  }
 },
 "nbformat_minor": 5,
 "nbformat": 4,
 "cells": [
  {
   "cell_type": "code",
   "id": "3775908f-ca36-4846-8f38-5adca39217f2",
   "metadata": {
    "language": "python",
    "name": "create_registry",
    "codeCollapsed": false,
    "collapsed": false,
    "resultHeight": 0
   },
   "source": "from snowflake.snowpark.context import get_active_session\nfrom snowflake.ml.registry import Registry\nfrom sklearn.linear_model import LinearRegression\nfrom datetime import datetime\n\nsession = get_active_session()\n\nregistry = Registry(session=session, database_name=\"RAW\", schema_name=\"SCIENCE\")",
   "execution_count": null,
   "outputs": []
  },
  {
   "cell_type": "code",
   "id": "461fa83d-2295-4ee3-912d-555dc23a6e8d",
   "metadata": {
    "language": "sql",
    "name": "training_data",
    "collapsed": false,
    "codeCollapsed": false,
    "resultHeight": 427
   },
   "outputs": [],
   "source": "select\n    hours_studied as x,\n    test_score as y\nfrom\n    raw.science.student_test_scores;",
   "execution_count": null
  },
  {
   "cell_type": "code",
   "id": "5f642658-b5af-459a-bcea-6c72b927a813",
   "metadata": {
    "language": "python",
    "name": "train_model",
    "codeCollapsed": false,
    "collapsed": false,
    "resultHeight": 38
   },
   "outputs": [],
   "source": "#df = session.sql(\"select * from raw.data.student_test_scores\").to_pandas()\ndf = cells.training_data.to_pandas()\n\nX = df[[\"X\"]]\ny = df[[\"Y\"]]\n\nmodel = LinearRegression().fit(X, y)\n\nprint(\"Model Score\", model.score(X, y))",
   "execution_count": null
  },
  {
   "cell_type": "code",
   "id": "c695373e-ac74-4b62-a1f1-08206cbd5c81",
   "metadata": {
    "language": "python",
    "name": "register_model",
    "codeCollapsed": false,
    "collapsed": false,
    "resultHeight": 0
   },
   "source": "mv = registry.log_model(\n    model,\n    model_name=\"PREDICT_TEST_SCORE\",\n    version_name=\"V\"+datetime.now().strftime(\"%Y%m%d_%H%M%S\"),\n    conda_dependencies=[\"scikit-learn\"],\n    comment=\"Demo tutorial model\",\n    metrics={\"score\": model.score(X, y)},\n    sample_input_data=X,\n    options={\"relax_version\": False}\n)",
   "execution_count": null,
   "outputs": []
  }
 ]
}