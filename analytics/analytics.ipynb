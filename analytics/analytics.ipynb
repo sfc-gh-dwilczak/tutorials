{
 "cells": [
  {
   "cell_type": "code",
   "execution_count": null,
   "id": "3775908f-ca36-4846-8f38-5adca39217f2",
   "metadata": {
    "codeCollapsed": false,
    "collapsed": false,
    "language": "python",
    "name": "Imports"
   },
   "outputs": [],
   "source": [
    "# Import python packages\n",
    "import streamlit as st\n",
    "import pandas as pd\n",
    "import altair as alt\n",
    "\n",
    "# We can also use Snowpark for our analyses!\n",
    "from snowflake.snowpark.context import get_active_session\n",
    "session = get_active_session()\n",
    "# Goodbye ryan\n"
   ]
  },
  {
   "cell_type": "code",
   "execution_count": null,
   "id": "6bb219da-101b-4e72-a5c7-aa571ce36cb2",
   "metadata": {
    "codeCollapsed": true,
    "collapsed": true,
    "language": "sql",
    "name": "youtube_videos"
   },
   "outputs": [],
   "source": [
    "select \n",
    "    snippet_title,\n",
    "    statistics_view_count,\n",
    "    statistics_like_count,\n",
    "    statistics_comment_count,\n",
    "    regexp_substr(player_embed_html, 'youtube.com/[^\"]+') as youtube_url\n",
    "from\n",
    "    raw.youtube_analytics.video \n",
    "where\n",
    "    ID = 'WEklZ63mMr4'\n",
    "    or ID ='jK7BRX0j3Qk'\n",
    "order by\n",
    "    statistics_view_count asc"
   ]
  },
  {
   "cell_type": "code",
   "execution_count": null,
   "id": "91ffe8eb-7b8a-4d96-8ee3-9e70a333bea2",
   "metadata": {
    "codeCollapsed": true,
    "collapsed": true,
    "language": "sql",
    "name": "query_total_users"
   },
   "outputs": [],
   "source": [
    "SELECT\n",
    "  DATE_TRUNC ('MONTH', date) AS month_date,\n",
    "  MONTHNAME (DATE_TRUNC ('MONTH', date)) AS month_name,\n",
    "  SUM(total_users) AS total_users\n",
    "FROM\n",
    "  RAW.GOOGLE_ANALYTICS.PAGES_PATH_REPORT\n",
    "GROUP BY\n",
    "  month_date\n",
    "ORDER BY\n",
    "  month_date desc"
   ]
  },
  {
   "cell_type": "code",
   "execution_count": null,
   "id": "9aa0b12b-d815-4f76-a1ae-012bd506bd7a",
   "metadata": {
    "codeCollapsed": true,
    "collapsed": true,
    "language": "sql",
    "name": "query_page_path_views"
   },
   "outputs": [],
   "source": [
    "SELECT\n",
    "    REPLACE(page_path, '/tutorials/snowflake/', '') AS page_path,\n",
    "    SUM(screen_page_views) AS total_screen_page_views\n",
    "FROM\n",
    "    RAW.GOOGLE_ANALYTICS.pages_path_report\n",
    "WHERE\n",
    "    REPLACE(page_path, '/tutorials/snowflake/', '') != '/tutorials/'\n",
    "    \n",
    "GROUP BY\n",
    "    REPLACE(page_path, '/tutorials/snowflake/', '')\n",
    "HAVING\n",
    "    SUM(screen_page_views) > 30\n",
    "ORDER BY\n",
    "    total_screen_page_views DESC;"
   ]
  },
  {
   "cell_type": "code",
   "execution_count": null,
   "id": "4436b0d5-ce17-4f50-b557-8102ed053a5d",
   "metadata": {
    "codeCollapsed": true,
    "collapsed": true,
    "language": "sql",
    "name": "bitly"
   },
   "outputs": [],
   "source": [
    "with clicks as (\n",
    "    select \n",
    "        sum(clicks) as clicks, bitlink_id\n",
    "    from\n",
    "        raw.bitly.link_click\n",
    "    group by\n",
    "        all\n",
    ")\n",
    "\n",
    "select \n",
    "    clicks.*, bitlink.title,bitlink.long_url\n",
    "from\n",
    "    clicks\n",
    "left join\n",
    "    raw.bitly.bitlink as bitlink\n",
    "        on clicks.bitlink_id = bitlink.id;"
   ]
  },
  {
   "cell_type": "markdown",
   "id": "87902438-f171-4332-9f26-66f807f3a4bd",
   "metadata": {
    "collapsed": false,
    "name": "Introduction"
   },
   "source": [
    "# Youtube and Tutorials Analytics\n",
    "\n",
    "The website \"Daniel Wilczak - Tutorials\" offers a comprehensive collection of tutorials primarily focused on Snowflake, a cloud data platform. It includes various guides on setting up and using Snowflake with different services such as AWS, Azure, Google Cloud, and APIs. Each tutorial is supplemented with a video for visual learners. Additionally, it covers topics like Git, container services, and local Jupyter Notebooks. The tutorials are user-generated and not officially affiliated with Snowflake.\n",
    "\n",
    "For more details, you can visit the [website](https://sfc-gh-dwilczak.github.io/tutorials/) here."
   ]
  },
  {
   "cell_type": "code",
   "execution_count": null,
   "id": "2b0b7c7e-a1d7-4501-8a7e-b6b9a3c9e36e",
   "metadata": {
    "codeCollapsed": true,
    "collapsed": false,
    "language": "python",
    "name": "Video_Analytics"
   },
   "outputs": [],
   "source": [
    "df = cells.youtube_videos.to_pandas()\n",
    "\n",
    "st.markdown(f\"# Youtube Video Metrics\")\n",
    "\n",
    "for index, row in df.iterrows():\n",
    "    st.markdown(f\"### Video: {row['SNIPPET_TITLE']}\")\n",
    "\n",
    "    col1, col2 = st.columns([3, 2])  # Adjust the column width ratio as needed\n",
    "\n",
    "    with col1:\n",
    "        st.write(f\"**Title:** {row['SNIPPET_TITLE']}\")\n",
    "        st.write(f\"**URL:** [Watch Video](https://{row['YOUTUBE_URL']})\")\n",
    "\n",
    "    with col2:\n",
    "        col1, col2, col3 = st.columns(3)\n",
    "        with col1:\n",
    "            st.metric(label=\"Views\", value=row['STATISTICS_VIEW_COUNT'])\n",
    "        with col2:\n",
    "            st.metric(label=\"Likes\", value=row['STATISTICS_LIKE_COUNT'])\n",
    "        with col3:\n",
    "            st.metric(label=\"Comments\", value=row['STATISTICS_COMMENT_COUNT'])\n",
    "\n",
    "    st.markdown(\"---\")  # Add a horizontal line to separate videos"
   ]
  },
  {
   "cell_type": "code",
   "execution_count": null,
   "id": "4be3c53e-6824-423c-a616-3e70899062b1",
   "metadata": {
    "codeCollapsed": true,
    "collapsed": false,
    "language": "python",
    "name": "cell1"
   },
   "outputs": [],
   "source": [
    "df = cells.bitly.to_pandas()\n",
    "\n",
    "st.markdown(f\"# Bitly links\")\n",
    "\n",
    "for index, row in df.iterrows():\n",
    "    st.markdown(f\"#### [{row['TITLE']}]({row['LONG_URL']}) \")\n",
    "    st.markdown(f\"Clicks:  {row['CLICKS']} \")\n"
   ]
  },
  {
   "cell_type": "code",
   "execution_count": null,
   "id": "ff1873a3-3304-4a5b-a84b-710fd826018a",
   "metadata": {
    "codeCollapsed": true,
    "collapsed": false,
    "language": "python",
    "name": "Users_By_Month"
   },
   "outputs": [],
   "source": [
    "# Graph\n",
    "df = cells.query_total_users.to_pandas()\n",
    "\n",
    "df = df.sort_values('MONTH_DATE')\n",
    "\n",
    "st.subheader('Tutorial Website - Total Users by Month')\n",
    "total_users_horizontal_bar_chart = alt.Chart(df).mark_bar().encode(\n",
    "    x='TOTAL_USERS',\n",
    "    y='MONTH_DATE'\n",
    ").properties(\n",
    "    width=800,\n",
    "    height=200\n",
    ")\n",
    "\n",
    "st.altair_chart(total_users_horizontal_bar_chart, use_container_width=True)"
   ]
  },
  {
   "cell_type": "code",
   "execution_count": null,
   "id": "8e8fc5fb-d04f-495b-bd27-ee417b6f83ec",
   "metadata": {
    "codeCollapsed": true,
    "collapsed": false,
    "language": "python",
    "name": "Views_by_page"
   },
   "outputs": [],
   "source": [
    "df = cells.query_page_path_views.to_pandas()\n",
    "\n",
    "## Bar Chart\n",
    "st.subheader('Tutorial Website - Views By Page')\n",
    "horizontal_bar_chart = alt.Chart(df).mark_bar().encode(\n",
    "    x='TOTAL_SCREEN_PAGE_VIEWS',\n",
    "    y=alt.Y('PAGE_PATH', sort='-x' , axis=alt.Axis(labelLimit=400))\n",
    ").properties(\n",
    "    width=800,\n",
    "    height=500\n",
    ")\n",
    "\n",
    "st.altair_chart(horizontal_bar_chart, use_container_width=True)\n"
   ]
  }
 ],
 "metadata": {
  "kernelspec": {
   "display_name": "Streamlit Notebook",
   "name": "streamlit"
  }
 },
 "nbformat": 4,
 "nbformat_minor": 5
}
