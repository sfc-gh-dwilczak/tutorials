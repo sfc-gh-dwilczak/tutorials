{
 "cells": [
  {
   "cell_type": "markdown",
   "metadata": {},
   "source": [
    "## Install Dependencies\n",
    "Feel free to remove any you don't believe you'll need."
   ]
  },
  {
   "cell_type": "code",
   "execution_count": 1,
   "metadata": {},
   "outputs": [
    {
     "name": "stdout",
     "output_type": "stream",
     "text": [
      "Collecting snowflake-snowpark-python\n",
      "  Using cached snowflake_snowpark_python-1.11.1-py3-none-any.whl.metadata (47 kB)\n",
      "Requirement already satisfied: setuptools>=40.6.0 in /Users/dwilczak/github/tutorials/.venv/lib/python3.11/site-packages (from snowflake-snowpark-python) (68.2.2)\n",
      "Collecting wheel (from snowflake-snowpark-python)\n",
      "  Using cached wheel-0.42.0-py3-none-any.whl.metadata (2.2 kB)\n",
      "Collecting snowflake-connector-python<4.0.0,>=3.4.0 (from snowflake-snowpark-python)\n",
      "  Using cached snowflake_connector_python-3.6.0-cp311-cp311-macosx_11_0_arm64.whl.metadata (58 kB)\n",
      "Collecting typing-extensions<5.0.0,>=4.1.0 (from snowflake-snowpark-python)\n",
      "  Using cached typing_extensions-4.9.0-py3-none-any.whl.metadata (3.0 kB)\n",
      "Collecting pyyaml (from snowflake-snowpark-python)\n",
      "  Using cached PyYAML-6.0.1-cp311-cp311-macosx_11_0_arm64.whl.metadata (2.1 kB)\n",
      "Collecting cloudpickle==2.2.1 (from snowflake-snowpark-python)\n",
      "  Using cached cloudpickle-2.2.1-py3-none-any.whl (25 kB)\n",
      "Collecting asn1crypto<2.0.0,>0.24.0 (from snowflake-connector-python<4.0.0,>=3.4.0->snowflake-snowpark-python)\n",
      "  Using cached asn1crypto-1.5.1-py2.py3-none-any.whl (105 kB)\n",
      "Collecting cffi<2.0.0,>=1.9 (from snowflake-connector-python<4.0.0,>=3.4.0->snowflake-snowpark-python)\n",
      "  Using cached cffi-1.16.0-cp311-cp311-macosx_11_0_arm64.whl.metadata (1.5 kB)\n",
      "Collecting cryptography<42.0.0,>=3.1.0 (from snowflake-connector-python<4.0.0,>=3.4.0->snowflake-snowpark-python)\n",
      "  Using cached cryptography-41.0.7-cp37-abi3-macosx_10_12_universal2.whl.metadata (5.2 kB)\n",
      "Collecting pyOpenSSL<24.0.0,>=16.2.0 (from snowflake-connector-python<4.0.0,>=3.4.0->snowflake-snowpark-python)\n",
      "  Using cached pyOpenSSL-23.3.0-py3-none-any.whl.metadata (12 kB)\n",
      "Collecting pyjwt<3.0.0 (from snowflake-connector-python<4.0.0,>=3.4.0->snowflake-snowpark-python)\n",
      "  Using cached PyJWT-2.8.0-py3-none-any.whl.metadata (4.2 kB)\n",
      "Collecting pytz (from snowflake-connector-python<4.0.0,>=3.4.0->snowflake-snowpark-python)\n",
      "  Using cached pytz-2023.3.post1-py2.py3-none-any.whl.metadata (22 kB)\n",
      "Collecting requests<3.0.0 (from snowflake-connector-python<4.0.0,>=3.4.0->snowflake-snowpark-python)\n",
      "  Using cached requests-2.31.0-py3-none-any.whl.metadata (4.6 kB)\n",
      "Requirement already satisfied: packaging in /Users/dwilczak/github/tutorials/.venv/lib/python3.11/site-packages (from snowflake-connector-python<4.0.0,>=3.4.0->snowflake-snowpark-python) (23.2)\n",
      "Collecting charset-normalizer<4,>=2 (from snowflake-connector-python<4.0.0,>=3.4.0->snowflake-snowpark-python)\n",
      "  Using cached charset_normalizer-3.3.2-cp311-cp311-macosx_11_0_arm64.whl.metadata (33 kB)\n",
      "Collecting idna<4,>=2.5 (from snowflake-connector-python<4.0.0,>=3.4.0->snowflake-snowpark-python)\n",
      "  Using cached idna-3.6-py3-none-any.whl.metadata (9.9 kB)\n",
      "Collecting certifi>=2017.4.17 (from snowflake-connector-python<4.0.0,>=3.4.0->snowflake-snowpark-python)\n",
      "  Using cached certifi-2023.11.17-py3-none-any.whl.metadata (2.2 kB)\n",
      "Collecting filelock<4,>=3.5 (from snowflake-connector-python<4.0.0,>=3.4.0->snowflake-snowpark-python)\n",
      "  Using cached filelock-3.13.1-py3-none-any.whl.metadata (2.8 kB)\n",
      "Collecting sortedcontainers>=2.4.0 (from snowflake-connector-python<4.0.0,>=3.4.0->snowflake-snowpark-python)\n",
      "  Using cached sortedcontainers-2.4.0-py2.py3-none-any.whl (29 kB)\n",
      "Collecting platformdirs<4.0.0,>=2.6.0 (from snowflake-connector-python<4.0.0,>=3.4.0->snowflake-snowpark-python)\n",
      "  Using cached platformdirs-3.11.0-py3-none-any.whl.metadata (11 kB)\n",
      "Collecting tomlkit (from snowflake-connector-python<4.0.0,>=3.4.0->snowflake-snowpark-python)\n",
      "  Using cached tomlkit-0.12.3-py3-none-any.whl.metadata (2.7 kB)\n",
      "Collecting pycparser (from cffi<2.0.0,>=1.9->snowflake-connector-python<4.0.0,>=3.4.0->snowflake-snowpark-python)\n",
      "  Using cached pycparser-2.21-py2.py3-none-any.whl (118 kB)\n",
      "Collecting urllib3<3,>=1.21.1 (from requests<3.0.0->snowflake-connector-python<4.0.0,>=3.4.0->snowflake-snowpark-python)\n",
      "  Using cached urllib3-2.1.0-py3-none-any.whl.metadata (6.4 kB)\n",
      "Using cached snowflake_snowpark_python-1.11.1-py3-none-any.whl (390 kB)\n",
      "Using cached snowflake_connector_python-3.6.0-cp311-cp311-macosx_11_0_arm64.whl (918 kB)\n",
      "Using cached typing_extensions-4.9.0-py3-none-any.whl (32 kB)\n",
      "Using cached PyYAML-6.0.1-cp311-cp311-macosx_11_0_arm64.whl (167 kB)\n",
      "Using cached wheel-0.42.0-py3-none-any.whl (65 kB)\n",
      "Using cached certifi-2023.11.17-py3-none-any.whl (162 kB)\n",
      "Using cached cffi-1.16.0-cp311-cp311-macosx_11_0_arm64.whl (176 kB)\n",
      "Using cached charset_normalizer-3.3.2-cp311-cp311-macosx_11_0_arm64.whl (118 kB)\n",
      "Using cached cryptography-41.0.7-cp37-abi3-macosx_10_12_universal2.whl (5.3 MB)\n",
      "Using cached filelock-3.13.1-py3-none-any.whl (11 kB)\n",
      "Using cached idna-3.6-py3-none-any.whl (61 kB)\n",
      "Using cached platformdirs-3.11.0-py3-none-any.whl (17 kB)\n",
      "Using cached PyJWT-2.8.0-py3-none-any.whl (22 kB)\n",
      "Using cached pyOpenSSL-23.3.0-py3-none-any.whl (58 kB)\n",
      "Using cached requests-2.31.0-py3-none-any.whl (62 kB)\n",
      "Using cached pytz-2023.3.post1-py2.py3-none-any.whl (502 kB)\n",
      "Using cached tomlkit-0.12.3-py3-none-any.whl (37 kB)\n",
      "Using cached urllib3-2.1.0-py3-none-any.whl (104 kB)\n",
      "Installing collected packages: sortedcontainers, pytz, asn1crypto, wheel, urllib3, typing-extensions, tomlkit, pyyaml, pyjwt, pycparser, platformdirs, idna, filelock, cloudpickle, charset-normalizer, certifi, requests, cffi, cryptography, pyOpenSSL, snowflake-connector-python, snowflake-snowpark-python\n",
      "  Attempting uninstall: platformdirs\n",
      "    Found existing installation: platformdirs 4.1.0\n",
      "    Uninstalling platformdirs-4.1.0:\n",
      "      Successfully uninstalled platformdirs-4.1.0\n",
      "Successfully installed asn1crypto-1.5.1 certifi-2023.11.17 cffi-1.16.0 charset-normalizer-3.3.2 cloudpickle-2.2.1 cryptography-41.0.7 filelock-3.13.1 idna-3.6 platformdirs-3.11.0 pyOpenSSL-23.3.0 pycparser-2.21 pyjwt-2.8.0 pytz-2023.3.post1 pyyaml-6.0.1 requests-2.31.0 snowflake-connector-python-3.6.0 snowflake-snowpark-python-1.11.1 sortedcontainers-2.4.0 tomlkit-0.12.3 typing-extensions-4.9.0 urllib3-2.1.0 wheel-0.42.0\n",
      "Requirement already satisfied: snowflake-connector-python in /Users/dwilczak/github/tutorials/.venv/lib/python3.11/site-packages (3.6.0)\n",
      "Requirement already satisfied: asn1crypto<2.0.0,>0.24.0 in /Users/dwilczak/github/tutorials/.venv/lib/python3.11/site-packages (from snowflake-connector-python) (1.5.1)\n",
      "Requirement already satisfied: cffi<2.0.0,>=1.9 in /Users/dwilczak/github/tutorials/.venv/lib/python3.11/site-packages (from snowflake-connector-python) (1.16.0)\n",
      "Requirement already satisfied: cryptography<42.0.0,>=3.1.0 in /Users/dwilczak/github/tutorials/.venv/lib/python3.11/site-packages (from snowflake-connector-python) (41.0.7)\n",
      "Requirement already satisfied: pyOpenSSL<24.0.0,>=16.2.0 in /Users/dwilczak/github/tutorials/.venv/lib/python3.11/site-packages (from snowflake-connector-python) (23.3.0)\n",
      "Requirement already satisfied: pyjwt<3.0.0 in /Users/dwilczak/github/tutorials/.venv/lib/python3.11/site-packages (from snowflake-connector-python) (2.8.0)\n",
      "Requirement already satisfied: pytz in /Users/dwilczak/github/tutorials/.venv/lib/python3.11/site-packages (from snowflake-connector-python) (2023.3.post1)\n",
      "Requirement already satisfied: requests<3.0.0 in /Users/dwilczak/github/tutorials/.venv/lib/python3.11/site-packages (from snowflake-connector-python) (2.31.0)\n",
      "Requirement already satisfied: packaging in /Users/dwilczak/github/tutorials/.venv/lib/python3.11/site-packages (from snowflake-connector-python) (23.2)\n",
      "Requirement already satisfied: charset-normalizer<4,>=2 in /Users/dwilczak/github/tutorials/.venv/lib/python3.11/site-packages (from snowflake-connector-python) (3.3.2)\n",
      "Requirement already satisfied: idna<4,>=2.5 in /Users/dwilczak/github/tutorials/.venv/lib/python3.11/site-packages (from snowflake-connector-python) (3.6)\n",
      "Requirement already satisfied: certifi>=2017.4.17 in /Users/dwilczak/github/tutorials/.venv/lib/python3.11/site-packages (from snowflake-connector-python) (2023.11.17)\n",
      "Requirement already satisfied: typing-extensions<5,>=4.3 in /Users/dwilczak/github/tutorials/.venv/lib/python3.11/site-packages (from snowflake-connector-python) (4.9.0)\n",
      "Requirement already satisfied: filelock<4,>=3.5 in /Users/dwilczak/github/tutorials/.venv/lib/python3.11/site-packages (from snowflake-connector-python) (3.13.1)\n",
      "Requirement already satisfied: sortedcontainers>=2.4.0 in /Users/dwilczak/github/tutorials/.venv/lib/python3.11/site-packages (from snowflake-connector-python) (2.4.0)\n",
      "Requirement already satisfied: platformdirs<4.0.0,>=2.6.0 in /Users/dwilczak/github/tutorials/.venv/lib/python3.11/site-packages (from snowflake-connector-python) (3.11.0)\n",
      "Requirement already satisfied: tomlkit in /Users/dwilczak/github/tutorials/.venv/lib/python3.11/site-packages (from snowflake-connector-python) (0.12.3)\n",
      "Requirement already satisfied: pycparser in /Users/dwilczak/github/tutorials/.venv/lib/python3.11/site-packages (from cffi<2.0.0,>=1.9->snowflake-connector-python) (2.21)\n",
      "Requirement already satisfied: urllib3<3,>=1.21.1 in /Users/dwilczak/github/tutorials/.venv/lib/python3.11/site-packages (from requests<3.0.0->snowflake-connector-python) (2.1.0)\n",
      "Requirement already satisfied: snowflake-connector-python[pandas] in /Users/dwilczak/github/tutorials/.venv/lib/python3.11/site-packages (3.6.0)\n",
      "Requirement already satisfied: asn1crypto<2.0.0,>0.24.0 in /Users/dwilczak/github/tutorials/.venv/lib/python3.11/site-packages (from snowflake-connector-python[pandas]) (1.5.1)\n",
      "Requirement already satisfied: cffi<2.0.0,>=1.9 in /Users/dwilczak/github/tutorials/.venv/lib/python3.11/site-packages (from snowflake-connector-python[pandas]) (1.16.0)\n",
      "Requirement already satisfied: cryptography<42.0.0,>=3.1.0 in /Users/dwilczak/github/tutorials/.venv/lib/python3.11/site-packages (from snowflake-connector-python[pandas]) (41.0.7)\n",
      "Requirement already satisfied: pyOpenSSL<24.0.0,>=16.2.0 in /Users/dwilczak/github/tutorials/.venv/lib/python3.11/site-packages (from snowflake-connector-python[pandas]) (23.3.0)\n",
      "Requirement already satisfied: pyjwt<3.0.0 in /Users/dwilczak/github/tutorials/.venv/lib/python3.11/site-packages (from snowflake-connector-python[pandas]) (2.8.0)\n",
      "Requirement already satisfied: pytz in /Users/dwilczak/github/tutorials/.venv/lib/python3.11/site-packages (from snowflake-connector-python[pandas]) (2023.3.post1)\n",
      "Requirement already satisfied: requests<3.0.0 in /Users/dwilczak/github/tutorials/.venv/lib/python3.11/site-packages (from snowflake-connector-python[pandas]) (2.31.0)\n",
      "Requirement already satisfied: packaging in /Users/dwilczak/github/tutorials/.venv/lib/python3.11/site-packages (from snowflake-connector-python[pandas]) (23.2)\n",
      "Requirement already satisfied: charset-normalizer<4,>=2 in /Users/dwilczak/github/tutorials/.venv/lib/python3.11/site-packages (from snowflake-connector-python[pandas]) (3.3.2)\n",
      "Requirement already satisfied: idna<4,>=2.5 in /Users/dwilczak/github/tutorials/.venv/lib/python3.11/site-packages (from snowflake-connector-python[pandas]) (3.6)\n",
      "Requirement already satisfied: certifi>=2017.4.17 in /Users/dwilczak/github/tutorials/.venv/lib/python3.11/site-packages (from snowflake-connector-python[pandas]) (2023.11.17)\n",
      "Requirement already satisfied: typing-extensions<5,>=4.3 in /Users/dwilczak/github/tutorials/.venv/lib/python3.11/site-packages (from snowflake-connector-python[pandas]) (4.9.0)\n",
      "Requirement already satisfied: filelock<4,>=3.5 in /Users/dwilczak/github/tutorials/.venv/lib/python3.11/site-packages (from snowflake-connector-python[pandas]) (3.13.1)\n",
      "Requirement already satisfied: sortedcontainers>=2.4.0 in /Users/dwilczak/github/tutorials/.venv/lib/python3.11/site-packages (from snowflake-connector-python[pandas]) (2.4.0)\n",
      "Requirement already satisfied: platformdirs<4.0.0,>=2.6.0 in /Users/dwilczak/github/tutorials/.venv/lib/python3.11/site-packages (from snowflake-connector-python[pandas]) (3.11.0)\n",
      "Requirement already satisfied: tomlkit in /Users/dwilczak/github/tutorials/.venv/lib/python3.11/site-packages (from snowflake-connector-python[pandas]) (0.12.3)\n",
      "Collecting pandas<2.2.0,>=1.0.0 (from snowflake-connector-python[pandas])\n",
      "  Using cached pandas-2.1.4-cp311-cp311-macosx_11_0_arm64.whl.metadata (18 kB)\n",
      "Collecting pyarrow (from snowflake-connector-python[pandas])\n",
      "  Using cached pyarrow-14.0.2-cp311-cp311-macosx_11_0_arm64.whl.metadata (3.0 kB)\n",
      "Requirement already satisfied: pycparser in /Users/dwilczak/github/tutorials/.venv/lib/python3.11/site-packages (from cffi<2.0.0,>=1.9->snowflake-connector-python[pandas]) (2.21)\n",
      "Collecting numpy<2,>=1.23.2 (from pandas<2.2.0,>=1.0.0->snowflake-connector-python[pandas])\n",
      "  Using cached numpy-1.26.2-cp311-cp311-macosx_11_0_arm64.whl.metadata (115 kB)\n",
      "Requirement already satisfied: python-dateutil>=2.8.2 in /Users/dwilczak/github/tutorials/.venv/lib/python3.11/site-packages (from pandas<2.2.0,>=1.0.0->snowflake-connector-python[pandas]) (2.8.2)\n",
      "Collecting tzdata>=2022.1 (from pandas<2.2.0,>=1.0.0->snowflake-connector-python[pandas])\n",
      "  Using cached tzdata-2023.3-py2.py3-none-any.whl (341 kB)\n",
      "Requirement already satisfied: urllib3<3,>=1.21.1 in /Users/dwilczak/github/tutorials/.venv/lib/python3.11/site-packages (from requests<3.0.0->snowflake-connector-python[pandas]) (2.1.0)\n",
      "Requirement already satisfied: six>=1.5 in /Users/dwilczak/github/tutorials/.venv/lib/python3.11/site-packages (from python-dateutil>=2.8.2->pandas<2.2.0,>=1.0.0->snowflake-connector-python[pandas]) (1.16.0)\n",
      "Using cached pandas-2.1.4-cp311-cp311-macosx_11_0_arm64.whl (10.8 MB)\n",
      "Using cached pyarrow-14.0.2-cp311-cp311-macosx_11_0_arm64.whl (24.0 MB)\n",
      "Using cached numpy-1.26.2-cp311-cp311-macosx_11_0_arm64.whl (14.0 MB)\n",
      "Installing collected packages: tzdata, numpy, pyarrow, pandas\n",
      "Successfully installed numpy-1.26.2 pandas-2.1.4 pyarrow-14.0.2 tzdata-2023.3\n"
     ]
    }
   ],
   "source": [
    "!pip install snowflake-snowpark-python\n",
    "!pip install snowflake-connector-python\n",
    "!pip install \"snowflake-connector-python[pandas]\""
   ]
  },
  {
   "cell_type": "markdown",
   "metadata": {},
   "source": [
    "## Connect to snowflake:"
   ]
  },
  {
   "cell_type": "code",
   "execution_count": 2,
   "metadata": {},
   "outputs": [],
   "source": [
    "from snowflake.snowpark import Session as SnowflakeSession\n",
    "\n",
    "# Your account information. Account identifier documentation: \n",
    "# - https://docs.snowflake.com/en/user-guide/admin-account-identifier\n",
    "connection_parameters = {\n",
    "    \"account\":  \"\",\n",
    "    \"user\":     \"\",\n",
    "    \"password\": \"\"\n",
    "}\n",
    "\n",
    "session = SnowflakeSession.builder.configs(connection_parameters).create() \n",
    "\n",
    "dataframe = session.table('raw.training.xy').to_pandas()"
   ]
  },
  {
   "cell_type": "markdown",
   "metadata": {},
   "source": [
    "## Query Snowflake and ask for data."
   ]
  },
  {
   "cell_type": "code",
   "execution_count": 3,
   "metadata": {},
   "outputs": [],
   "source": [
    "dataframe = session.table('raw.training.xy').to_pandas()"
   ]
  },
  {
   "cell_type": "code",
   "execution_count": 4,
   "metadata": {},
   "outputs": [
    {
     "name": "stdout",
     "output_type": "stream",
     "text": [
      "     X   Y\n",
      "0    1  10\n",
      "1    2  15\n",
      "2    3  23\n",
      "3    4  25\n",
      "4    5  32\n",
      "5    6  35\n",
      "6    7  40\n",
      "7    8  43\n",
      "8    9  50\n",
      "9   10  52\n",
      "10  11  60\n",
      "11  12  44\n",
      "12  13  55\n",
      "13  14  57\n",
      "14  15  33\n"
     ]
    }
   ],
   "source": [
    "print(dataframe)"
   ]
  },
  {
   "cell_type": "code",
   "execution_count": null,
   "metadata": {},
   "outputs": [],
   "source": []
  }
 ],
 "metadata": {
  "kernelspec": {
   "display_name": ".venv",
   "language": "python",
   "name": "python3"
  },
  "language_info": {
   "codemirror_mode": {
    "name": "ipython",
    "version": 3
   },
   "file_extension": ".py",
   "mimetype": "text/x-python",
   "name": "python",
   "nbconvert_exporter": "python",
   "pygments_lexer": "ipython3",
   "version": "3.11.6"
  }
 },
 "nbformat": 4,
 "nbformat_minor": 2
}
