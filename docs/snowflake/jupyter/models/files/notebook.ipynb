{
 "cells": [
  {
   "cell_type": "markdown",
   "metadata": {},
   "source": [
    "## Install the snowflake python package:"
   ]
  },
  {
   "cell_type": "code",
   "execution_count": 1,
   "metadata": {},
   "outputs": [
    {
     "name": "stdout",
     "output_type": "stream",
     "text": [
      "Requirement already satisfied: snowflake-snowpark-python in /Users/dwilczak/github/snowflake/.venv/lib/python3.11/site-packages (1.11.1)\n",
      "Requirement already satisfied: setuptools>=40.6.0 in /Users/dwilczak/github/snowflake/.venv/lib/python3.11/site-packages (from snowflake-snowpark-python) (68.2.2)\n",
      "Requirement already satisfied: wheel in /Users/dwilczak/github/snowflake/.venv/lib/python3.11/site-packages (from snowflake-snowpark-python) (0.42.0)\n",
      "Requirement already satisfied: snowflake-connector-python<4.0.0,>=3.4.0 in /Users/dwilczak/github/snowflake/.venv/lib/python3.11/site-packages (from snowflake-snowpark-python) (3.6.0)\n",
      "Requirement already satisfied: typing-extensions<5.0.0,>=4.1.0 in /Users/dwilczak/github/snowflake/.venv/lib/python3.11/site-packages (from snowflake-snowpark-python) (4.9.0)\n",
      "Requirement already satisfied: pyyaml in /Users/dwilczak/github/snowflake/.venv/lib/python3.11/site-packages (from snowflake-snowpark-python) (6.0.1)\n",
      "Requirement already satisfied: cloudpickle==2.2.1 in /Users/dwilczak/github/snowflake/.venv/lib/python3.11/site-packages (from snowflake-snowpark-python) (2.2.1)\n",
      "Requirement already satisfied: asn1crypto<2.0.0,>0.24.0 in /Users/dwilczak/github/snowflake/.venv/lib/python3.11/site-packages (from snowflake-connector-python<4.0.0,>=3.4.0->snowflake-snowpark-python) (1.5.1)\n",
      "Requirement already satisfied: cffi<2.0.0,>=1.9 in /Users/dwilczak/github/snowflake/.venv/lib/python3.11/site-packages (from snowflake-connector-python<4.0.0,>=3.4.0->snowflake-snowpark-python) (1.16.0)\n",
      "Requirement already satisfied: cryptography<42.0.0,>=3.1.0 in /Users/dwilczak/github/snowflake/.venv/lib/python3.11/site-packages (from snowflake-connector-python<4.0.0,>=3.4.0->snowflake-snowpark-python) (41.0.7)\n",
      "Requirement already satisfied: pyOpenSSL<24.0.0,>=16.2.0 in /Users/dwilczak/github/snowflake/.venv/lib/python3.11/site-packages (from snowflake-connector-python<4.0.0,>=3.4.0->snowflake-snowpark-python) (23.3.0)\n",
      "Requirement already satisfied: pyjwt<3.0.0 in /Users/dwilczak/github/snowflake/.venv/lib/python3.11/site-packages (from snowflake-connector-python<4.0.0,>=3.4.0->snowflake-snowpark-python) (2.8.0)\n",
      "Requirement already satisfied: pytz in /Users/dwilczak/github/snowflake/.venv/lib/python3.11/site-packages (from snowflake-connector-python<4.0.0,>=3.4.0->snowflake-snowpark-python) (2023.3.post1)\n",
      "Requirement already satisfied: requests<3.0.0 in /Users/dwilczak/github/snowflake/.venv/lib/python3.11/site-packages (from snowflake-connector-python<4.0.0,>=3.4.0->snowflake-snowpark-python) (2.31.0)\n",
      "Requirement already satisfied: packaging in /Users/dwilczak/github/snowflake/.venv/lib/python3.11/site-packages (from snowflake-connector-python<4.0.0,>=3.4.0->snowflake-snowpark-python) (23.2)\n",
      "Requirement already satisfied: charset-normalizer<4,>=2 in /Users/dwilczak/github/snowflake/.venv/lib/python3.11/site-packages (from snowflake-connector-python<4.0.0,>=3.4.0->snowflake-snowpark-python) (3.3.2)\n",
      "Requirement already satisfied: idna<4,>=2.5 in /Users/dwilczak/github/snowflake/.venv/lib/python3.11/site-packages (from snowflake-connector-python<4.0.0,>=3.4.0->snowflake-snowpark-python) (3.6)\n",
      "Requirement already satisfied: certifi>=2017.4.17 in /Users/dwilczak/github/snowflake/.venv/lib/python3.11/site-packages (from snowflake-connector-python<4.0.0,>=3.4.0->snowflake-snowpark-python) (2023.11.17)\n",
      "Requirement already satisfied: filelock<4,>=3.5 in /Users/dwilczak/github/snowflake/.venv/lib/python3.11/site-packages (from snowflake-connector-python<4.0.0,>=3.4.0->snowflake-snowpark-python) (3.13.1)\n",
      "Requirement already satisfied: sortedcontainers>=2.4.0 in /Users/dwilczak/github/snowflake/.venv/lib/python3.11/site-packages (from snowflake-connector-python<4.0.0,>=3.4.0->snowflake-snowpark-python) (2.4.0)\n",
      "Requirement already satisfied: platformdirs<4.0.0,>=2.6.0 in /Users/dwilczak/github/snowflake/.venv/lib/python3.11/site-packages (from snowflake-connector-python<4.0.0,>=3.4.0->snowflake-snowpark-python) (3.11.0)\n",
      "Requirement already satisfied: tomlkit in /Users/dwilczak/github/snowflake/.venv/lib/python3.11/site-packages (from snowflake-connector-python<4.0.0,>=3.4.0->snowflake-snowpark-python) (0.12.3)\n",
      "Requirement already satisfied: pycparser in /Users/dwilczak/github/snowflake/.venv/lib/python3.11/site-packages (from cffi<2.0.0,>=1.9->snowflake-connector-python<4.0.0,>=3.4.0->snowflake-snowpark-python) (2.21)\n",
      "Requirement already satisfied: urllib3<3,>=1.21.1 in /Users/dwilczak/github/snowflake/.venv/lib/python3.11/site-packages (from requests<3.0.0->snowflake-connector-python<4.0.0,>=3.4.0->snowflake-snowpark-python) (2.1.0)\n",
      "Requirement already satisfied: snowflake-connector-python in /Users/dwilczak/github/snowflake/.venv/lib/python3.11/site-packages (3.6.0)\n",
      "Requirement already satisfied: asn1crypto<2.0.0,>0.24.0 in /Users/dwilczak/github/snowflake/.venv/lib/python3.11/site-packages (from snowflake-connector-python) (1.5.1)\n",
      "Requirement already satisfied: cffi<2.0.0,>=1.9 in /Users/dwilczak/github/snowflake/.venv/lib/python3.11/site-packages (from snowflake-connector-python) (1.16.0)\n",
      "Requirement already satisfied: cryptography<42.0.0,>=3.1.0 in /Users/dwilczak/github/snowflake/.venv/lib/python3.11/site-packages (from snowflake-connector-python) (41.0.7)\n",
      "Requirement already satisfied: pyOpenSSL<24.0.0,>=16.2.0 in /Users/dwilczak/github/snowflake/.venv/lib/python3.11/site-packages (from snowflake-connector-python) (23.3.0)\n",
      "Requirement already satisfied: pyjwt<3.0.0 in /Users/dwilczak/github/snowflake/.venv/lib/python3.11/site-packages (from snowflake-connector-python) (2.8.0)\n",
      "Requirement already satisfied: pytz in /Users/dwilczak/github/snowflake/.venv/lib/python3.11/site-packages (from snowflake-connector-python) (2023.3.post1)\n",
      "Requirement already satisfied: requests<3.0.0 in /Users/dwilczak/github/snowflake/.venv/lib/python3.11/site-packages (from snowflake-connector-python) (2.31.0)\n",
      "Requirement already satisfied: packaging in /Users/dwilczak/github/snowflake/.venv/lib/python3.11/site-packages (from snowflake-connector-python) (23.2)\n",
      "Requirement already satisfied: charset-normalizer<4,>=2 in /Users/dwilczak/github/snowflake/.venv/lib/python3.11/site-packages (from snowflake-connector-python) (3.3.2)\n",
      "Requirement already satisfied: idna<4,>=2.5 in /Users/dwilczak/github/snowflake/.venv/lib/python3.11/site-packages (from snowflake-connector-python) (3.6)\n",
      "Requirement already satisfied: certifi>=2017.4.17 in /Users/dwilczak/github/snowflake/.venv/lib/python3.11/site-packages (from snowflake-connector-python) (2023.11.17)\n",
      "Requirement already satisfied: typing-extensions<5,>=4.3 in /Users/dwilczak/github/snowflake/.venv/lib/python3.11/site-packages (from snowflake-connector-python) (4.9.0)\n",
      "Requirement already satisfied: filelock<4,>=3.5 in /Users/dwilczak/github/snowflake/.venv/lib/python3.11/site-packages (from snowflake-connector-python) (3.13.1)\n",
      "Requirement already satisfied: sortedcontainers>=2.4.0 in /Users/dwilczak/github/snowflake/.venv/lib/python3.11/site-packages (from snowflake-connector-python) (2.4.0)\n",
      "Requirement already satisfied: platformdirs<4.0.0,>=2.6.0 in /Users/dwilczak/github/snowflake/.venv/lib/python3.11/site-packages (from snowflake-connector-python) (3.11.0)\n",
      "Requirement already satisfied: tomlkit in /Users/dwilczak/github/snowflake/.venv/lib/python3.11/site-packages (from snowflake-connector-python) (0.12.3)\n",
      "Requirement already satisfied: pycparser in /Users/dwilczak/github/snowflake/.venv/lib/python3.11/site-packages (from cffi<2.0.0,>=1.9->snowflake-connector-python) (2.21)\n",
      "Requirement already satisfied: urllib3<3,>=1.21.1 in /Users/dwilczak/github/snowflake/.venv/lib/python3.11/site-packages (from requests<3.0.0->snowflake-connector-python) (2.1.0)\n",
      "Requirement already satisfied: snowflake-connector-python[pandas] in /Users/dwilczak/github/snowflake/.venv/lib/python3.11/site-packages (3.6.0)\n",
      "Requirement already satisfied: asn1crypto<2.0.0,>0.24.0 in /Users/dwilczak/github/snowflake/.venv/lib/python3.11/site-packages (from snowflake-connector-python[pandas]) (1.5.1)\n",
      "Requirement already satisfied: cffi<2.0.0,>=1.9 in /Users/dwilczak/github/snowflake/.venv/lib/python3.11/site-packages (from snowflake-connector-python[pandas]) (1.16.0)\n",
      "Requirement already satisfied: cryptography<42.0.0,>=3.1.0 in /Users/dwilczak/github/snowflake/.venv/lib/python3.11/site-packages (from snowflake-connector-python[pandas]) (41.0.7)\n",
      "Requirement already satisfied: pyOpenSSL<24.0.0,>=16.2.0 in /Users/dwilczak/github/snowflake/.venv/lib/python3.11/site-packages (from snowflake-connector-python[pandas]) (23.3.0)\n",
      "Requirement already satisfied: pyjwt<3.0.0 in /Users/dwilczak/github/snowflake/.venv/lib/python3.11/site-packages (from snowflake-connector-python[pandas]) (2.8.0)\n",
      "Requirement already satisfied: pytz in /Users/dwilczak/github/snowflake/.venv/lib/python3.11/site-packages (from snowflake-connector-python[pandas]) (2023.3.post1)\n",
      "Requirement already satisfied: requests<3.0.0 in /Users/dwilczak/github/snowflake/.venv/lib/python3.11/site-packages (from snowflake-connector-python[pandas]) (2.31.0)\n",
      "Requirement already satisfied: packaging in /Users/dwilczak/github/snowflake/.venv/lib/python3.11/site-packages (from snowflake-connector-python[pandas]) (23.2)\n",
      "Requirement already satisfied: charset-normalizer<4,>=2 in /Users/dwilczak/github/snowflake/.venv/lib/python3.11/site-packages (from snowflake-connector-python[pandas]) (3.3.2)\n",
      "Requirement already satisfied: idna<4,>=2.5 in /Users/dwilczak/github/snowflake/.venv/lib/python3.11/site-packages (from snowflake-connector-python[pandas]) (3.6)\n",
      "Requirement already satisfied: certifi>=2017.4.17 in /Users/dwilczak/github/snowflake/.venv/lib/python3.11/site-packages (from snowflake-connector-python[pandas]) (2023.11.17)\n",
      "Requirement already satisfied: typing-extensions<5,>=4.3 in /Users/dwilczak/github/snowflake/.venv/lib/python3.11/site-packages (from snowflake-connector-python[pandas]) (4.9.0)\n",
      "Requirement already satisfied: filelock<4,>=3.5 in /Users/dwilczak/github/snowflake/.venv/lib/python3.11/site-packages (from snowflake-connector-python[pandas]) (3.13.1)\n",
      "Requirement already satisfied: sortedcontainers>=2.4.0 in /Users/dwilczak/github/snowflake/.venv/lib/python3.11/site-packages (from snowflake-connector-python[pandas]) (2.4.0)\n",
      "Requirement already satisfied: platformdirs<4.0.0,>=2.6.0 in /Users/dwilczak/github/snowflake/.venv/lib/python3.11/site-packages (from snowflake-connector-python[pandas]) (3.11.0)\n",
      "Requirement already satisfied: tomlkit in /Users/dwilczak/github/snowflake/.venv/lib/python3.11/site-packages (from snowflake-connector-python[pandas]) (0.12.3)\n",
      "Requirement already satisfied: pandas<2.2.0,>=1.0.0 in /Users/dwilczak/github/snowflake/.venv/lib/python3.11/site-packages (from snowflake-connector-python[pandas]) (2.1.4)\n",
      "Requirement already satisfied: pyarrow in /Users/dwilczak/github/snowflake/.venv/lib/python3.11/site-packages (from snowflake-connector-python[pandas]) (14.0.2)\n",
      "Requirement already satisfied: pycparser in /Users/dwilczak/github/snowflake/.venv/lib/python3.11/site-packages (from cffi<2.0.0,>=1.9->snowflake-connector-python[pandas]) (2.21)\n",
      "Requirement already satisfied: numpy<2,>=1.23.2 in /Users/dwilczak/github/snowflake/.venv/lib/python3.11/site-packages (from pandas<2.2.0,>=1.0.0->snowflake-connector-python[pandas]) (1.26.2)\n",
      "Requirement already satisfied: python-dateutil>=2.8.2 in /Users/dwilczak/github/snowflake/.venv/lib/python3.11/site-packages (from pandas<2.2.0,>=1.0.0->snowflake-connector-python[pandas]) (2.8.2)\n",
      "Requirement already satisfied: tzdata>=2022.1 in /Users/dwilczak/github/snowflake/.venv/lib/python3.11/site-packages (from pandas<2.2.0,>=1.0.0->snowflake-connector-python[pandas]) (2023.3)\n",
      "Requirement already satisfied: urllib3<3,>=1.21.1 in /Users/dwilczak/github/snowflake/.venv/lib/python3.11/site-packages (from requests<3.0.0->snowflake-connector-python[pandas]) (2.1.0)\n",
      "Requirement already satisfied: six>=1.5 in /Users/dwilczak/github/snowflake/.venv/lib/python3.11/site-packages (from python-dateutil>=2.8.2->pandas<2.2.0,>=1.0.0->snowflake-connector-python[pandas]) (1.16.0)\n",
      "Requirement already satisfied: scikit-learn in /Users/dwilczak/github/snowflake/.venv/lib/python3.11/site-packages (1.3.2)\n",
      "Requirement already satisfied: numpy<2.0,>=1.17.3 in /Users/dwilczak/github/snowflake/.venv/lib/python3.11/site-packages (from scikit-learn) (1.26.2)\n",
      "Requirement already satisfied: scipy>=1.5.0 in /Users/dwilczak/github/snowflake/.venv/lib/python3.11/site-packages (from scikit-learn) (1.11.4)\n",
      "Requirement already satisfied: joblib>=1.1.1 in /Users/dwilczak/github/snowflake/.venv/lib/python3.11/site-packages (from scikit-learn) (1.3.2)\n",
      "Requirement already satisfied: threadpoolctl>=2.0.0 in /Users/dwilczak/github/snowflake/.venv/lib/python3.11/site-packages (from scikit-learn) (3.2.0)\n",
      "Requirement already satisfied: numpy in /Users/dwilczak/github/snowflake/.venv/lib/python3.11/site-packages (1.26.2)\n"
     ]
    }
   ],
   "source": [
    "!pip install snowflake-snowpark-python\n",
    "!pip install snowflake-connector-python\n",
    "!pip install \"snowflake-connector-python[pandas]\"\n",
    "!pip install scikit-learn\n",
    "!pip install numpy"
   ]
  },
  {
   "cell_type": "markdown",
   "metadata": {},
   "source": [
    "## Connect to snowflake:"
   ]
  },
  {
   "cell_type": "code",
   "execution_count": 6,
   "metadata": {},
   "outputs": [],
   "source": [
    "\n",
    "from snowflake.snowpark import Session as SnowflakeSession\n",
    "\n",
    "connection_parameters = {\n",
    "    \"account\":  \"\",\n",
    "    \"user\":     \"\",\n",
    "    \"password\": \"\"\n",
    "}\n",
    "\n",
    "session = SnowflakeSession.builder.configs(connection_parameters).create() "
   ]
  },
  {
   "cell_type": "markdown",
   "metadata": {},
   "source": [
    "## Develop a simple linear regression model from our data:"
   ]
  },
  {
   "cell_type": "code",
   "execution_count": 7,
   "metadata": {},
   "outputs": [
    {
     "name": "stdout",
     "output_type": "stream",
     "text": [
      "{'R2 score on Train': 0.6318152622874296, 'R2 score on Test': 0.5874051847707955, 'Prediction(1)=': 17.773584905660385}\n"
     ]
    }
   ],
   "source": [
    "from sklearn.linear_model import LinearRegression\n",
    "from sklearn.model_selection import train_test_split\n",
    "\n",
    "import numpy as np\n",
    "\n",
    "\n",
    "dataframe = session.table(\n",
    "    'raw.training.xy'\n",
    ").to_pandas()\n",
    "\n",
    "X = np.array(dataframe['X']).reshape(-1, 1)\n",
    "y = np.array(dataframe['Y']).reshape(-1, 1)\n",
    "    \n",
    "# Splitting the data into  training and test datasets.\n",
    "X_train, X_test, y_train, y_test = train_test_split(X, y, test_size = 0.25)\n",
    "    \n",
    "# Training the model.\n",
    "model = LinearRegression() \n",
    "model.fit(X_train, y_train)\n",
    "\n",
    "# Return model R2 score on train and test data\n",
    "prediction = model.predict(np.array([1]).reshape(-1, 1))[0][0]\n",
    "\n",
    "print({\n",
    "    \"R2 score on Train\": model.score(X_train, y_train),\n",
    "    \"R2 score on Test\": model.score(X_test, y_test),\n",
    "    \"Prediction(1)=\": prediction\n",
    "})"
   ]
  }
 ],
 "metadata": {
  "kernelspec": {
   "display_name": "Python 3",
   "language": "python",
   "name": "python3"
  },
  "language_info": {
   "codemirror_mode": {
    "name": "ipython",
    "version": 3
   },
   "file_extension": ".py",
   "mimetype": "text/x-python",
   "name": "python",
   "nbconvert_exporter": "python",
   "pygments_lexer": "ipython3",
   "version": "3.11.6"
  }
 },
 "nbformat": 4,
 "nbformat_minor": 2
}
