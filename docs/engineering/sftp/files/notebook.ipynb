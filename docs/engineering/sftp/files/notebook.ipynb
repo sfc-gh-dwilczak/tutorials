{
 "metadata": {
  "kernelspec": {
   "display_name": "Streamlit Notebook",
   "name": "streamlit"
  }
 },
 "nbformat_minor": 5,
 "nbformat": 4,
 "cells": [
  {
   "cell_type": "code",
   "id": "9160e62e-2d3f-4530-8220-20262e23c2d0",
   "metadata": {
    "language": "python",
    "name": "installs",
    "collapsed": true,
    "codeCollapsed": true,
    "resultHeight": 200
   },
   "outputs": [],
   "source": "!pip install paramiko",
   "execution_count": null
  },
  {
   "cell_type": "code",
   "id": "3775908f-ca36-4846-8f38-5adca39217f2",
   "metadata": {
    "language": "python",
    "name": "packages",
    "collapsed": true,
    "codeCollapsed": true,
    "resultHeight": 111
   },
   "source": "# Import python packages\nimport os\nimport tempfile\nimport zipfile\nimport paramiko\n\nfrom snowflake.snowpark.context import get_active_session\nsession = get_active_session()",
   "execution_count": null,
   "outputs": []
  },
  {
   "cell_type": "code",
   "id": "a0bf2fa5-fd11-4ed7-8037-572bd8f8ade2",
   "metadata": {
    "language": "python",
    "name": "function",
    "resultHeight": 0,
    "collapsed": true,
    "codeCollapsed": true
   },
   "outputs": [],
   "source": "import os\nimport tempfile\nimport zipfile\nimport paramiko\nfrom snowflake.snowpark import Session\n\ndef download_and_stage_file_from_sftp(sftp_details, remote_file_path, stage_location, destination=\"/\"):\n    \"\"\"\n    Downloads a file from an SFTP server, handles unzipping if necessary, \n    and uploads all contents to a specified location in a Snowflake stage.\n\n    Args:\n        sftp_details (dict): SFTP connection details including 'hostname', 'port', 'username', 'password'.\n        remote_file_path (str): Path of the file on the SFTP server.\n        stage_location (str): The Snowflake stage location where the file(s) will be uploaded.\n        destination (str): The location within the stage to upload the file(s). Default is root ('/').\n    \"\"\"\n    # Normalize destination to avoid double slashes\n    destination = destination.rstrip(\"/\")\n    if not destination.startswith(\"/\"):\n        destination = f\"/{destination}\"\n\n    # Temporary file path\n    temp_file_path = tempfile.NamedTemporaryFile(delete=False).name\n\n    try:\n        # Initialize SFTP connection\n        client = paramiko.SSHClient()\n        client.set_missing_host_key_policy(paramiko.AutoAddPolicy())\n        client.connect(\n            hostname=sftp_details['hostname'],\n            port=sftp_details.get('port', 22),\n            username=sftp_details['username'],\n            password=sftp_details['password']\n        )\n        sftp = client.open_sftp()\n\n        # Get the original file name\n        original_file_name = os.path.basename(remote_file_path)\n\n        # Download the remote file to the temporary file\n        temp_file_download_path = os.path.join(tempfile.gettempdir(), original_file_name)\n        sftp.get(remote_file_path, temp_file_download_path)\n        print(f\"Downloaded file from SFTP server saved temporarily as {temp_file_download_path}\")\n\n        sftp.close()\n        client.close()\n\n        # Check if the file is a ZIP\n        if zipfile.is_zipfile(temp_file_download_path):\n            with zipfile.ZipFile(temp_file_download_path, \"r\") as zip_ref:\n                with tempfile.TemporaryDirectory() as temp_extract_dir:\n                    zip_ref.extractall(temp_extract_dir)\n                    print(f\"Files extracted to temporary directory {temp_extract_dir}\")\n\n                    # Upload all extracted files to the Snowflake stage at the specified destination\n                    session = get_active_session()\n                    for file_name in os.listdir(temp_extract_dir):\n                        file_path = os.path.join(temp_extract_dir, file_name)\n                        upload_path = f\"@{stage_location}{destination}/{file_name}\"\n                        session.file.put(f\"file://{file_path}\", upload_path, auto_compress=False)\n                        print(f\"Uploaded {file_name} to stage {upload_path}\")\n        else:\n            # If not a ZIP, upload the single file directly\n            session = get_active_session()\n            upload_path = f\"@{stage_location}{destination}\"\n            session.file.put(f\"file://{temp_file_download_path}\", upload_path, auto_compress=False)\n            print(f\"Uploaded file {original_file_name} to stage {upload_path}\")\n\n    except Exception as e:\n        print(f\"Error during SFTP download or file processing: {e}\")\n    finally:\n        # Clean up the temporary file\n        if os.path.exists(temp_file_download_path):\n            os.remove(temp_file_download_path)\n            print(f\"Deleted temporary file {temp_file_download_path}\")\n",
   "execution_count": null
  },
  {
   "cell_type": "code",
   "id": "a01f6830-f97d-4c67-a2b1-e8bcaa7e8406",
   "metadata": {
    "language": "python",
    "name": "download_file",
    "collapsed": false,
    "resultHeight": 83,
    "codeCollapsed": false
   },
   "outputs": [],
   "source": "sftp_details = {\n    'hostname': '...',\n    'port': 22,\n    'username': '...',\n    'password': '...'\n}\n# Location of file on SFTP.\nremote_file_path = \"directory/file.csv\"\n# Snowflake Stage location (Database.Schema.Stage).\nstage_location = \"RAW.SFTP.FILES\"\n# This is where the file will land in the Snowflake stage.\ndestination = \"/\"\n\ndownload_and_stage_file_from_sftp(sftp_details, remote_file_path, stage_location, destination)",
   "execution_count": null
  },
  {
   "cell_type": "code",
   "id": "9b674967-8290-48e7-ba42-b6825b57f789",
   "metadata": {
    "language": "sql",
    "name": "result",
    "resultHeight": 112,
    "collapsed": false,
    "codeCollapsed": false
   },
   "outputs": [],
   "source": "ls @RAW.SFTP.FILES",
   "execution_count": null
  }
 ]
}